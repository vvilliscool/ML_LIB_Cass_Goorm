{
  "nbformat": 4,
  "nbformat_minor": 0,
  "metadata": {
    "colab": {
      "name": "goorm_20220803_2.ipynb",
      "provenance": [],
      "authorship_tag": "ABX9TyOwQKf/pz/hBwuwpgVjWxsy",
      "include_colab_link": true
    },
    "kernelspec": {
      "name": "python3",
      "display_name": "Python 3"
    },
    "language_info": {
      "name": "python"
    }
  },
  "cells": [
    {
      "cell_type": "markdown",
      "metadata": {
        "id": "view-in-github",
        "colab_type": "text"
      },
      "source": [
        "<a href=\"https://colab.research.google.com/github/vvilliscool/ML_LIB_Class_Goorm/blob/master/goorm_20220803_2.ipynb\" target=\"_parent\"><img src=\"https://colab.research.google.com/assets/colab-badge.svg\" alt=\"Open In Colab\"/></a>"
      ]
    },
    {
      "cell_type": "code",
      "execution_count": 1,
      "metadata": {
        "id": "YKjcdxZprFDG"
      },
      "outputs": [],
      "source": [
        "from IPython.display import display, Image\n",
        "import warnings\n",
        "warnings.filterwarnings(action='ignore')"
      ]
    },
    {
      "cell_type": "code",
      "source": [
        "import pandas as pd\n",
        "import numpy as np\n",
        "from sklearn.model_selection import train_test_split\n",
        "import matplotlib.pyplot as plt\n",
        "import seaborn as sns"
      ],
      "metadata": {
        "id": "8yGApuAerKlU"
      },
      "execution_count": 4,
      "outputs": []
    },
    {
      "cell_type": "code",
      "source": [
        "from sklearn.datasets import load_digits\n",
        "\n",
        "digits = load_digits()\n",
        "print(digits.data.shape)\n",
        "print(digits.keys(), digits.target)\n",
        "print(np.unique( digits.target ) )\n",
        "sns.countplot(digits.target)"
      ],
      "metadata": {
        "colab": {
          "base_uri": "https://localhost:8080/",
          "height": 338
        },
        "id": "jACJhMLErMLH",
        "outputId": "10e1bb59-152d-4a2b-87ad-e6b7a680d2bd"
      },
      "execution_count": 5,
      "outputs": [
        {
          "output_type": "stream",
          "name": "stdout",
          "text": [
            "(1797, 64)\n",
            "dict_keys(['data', 'target', 'frame', 'feature_names', 'target_names', 'images', 'DESCR']) [0 1 2 ... 8 9 8]\n",
            "[0 1 2 3 4 5 6 7 8 9]\n"
          ]
        },
        {
          "output_type": "execute_result",
          "data": {
            "text/plain": [
              "<matplotlib.axes._subplots.AxesSubplot at 0x7fcf69cede50>"
            ]
          },
          "metadata": {},
          "execution_count": 5
        },
        {
          "output_type": "display_data",
          "data": {
            "text/plain": [
              "<Figure size 432x288 with 1 Axes>"
            ],
            "image/png": "[encoded data removed]"
          },
          "metadata": {
            "needs_background": "light"
          }
        }
      ]
    },
    {
      "cell_type": "code",
      "source": [
        "X = digits.data             # 입력  \n",
        "y = digits.target == 9      # 출력\n",
        "\n",
        "X_train, X_test, y_train, y_test = train_test_split(X, y, random_state=0)"
      ],
      "metadata": {
        "id": "U-VJo1PrrO5J"
      },
      "execution_count": 6,
      "outputs": []
    },
    {
      "cell_type": "code",
      "source": [
        "plt.figure(figsize=(15,6))\n",
        "plt.subplot(1, 2, 1)\n",
        "# y_train의 값 확인\n",
        "sns.countplot(y_train)\n",
        "plt.title(\"train\")\n",
        "\n",
        "plt.subplot(1, 2, 2)\n",
        "# y_test의 값 확인\n",
        "sns.countplot(y_test)\n",
        "plt.title(\"test\")"
      ],
      "metadata": {
        "colab": {
          "base_uri": "https://localhost:8080/",
          "height": 408
        },
        "id": "Wn0JaQzcrTsn",
        "outputId": "7b3c0011-37b4-4d97-8c82-e253e2e10469"
      },
      "execution_count": 7,
      "outputs": [
        {
          "output_type": "execute_result",
          "data": {
            "text/plain": [
              "Text(0.5, 1.0, 'test')"
            ]
          },
          "metadata": {},
          "execution_count": 7
        },
        {
          "output_type": "display_data",
          "data": {
            "text/plain": [
              "<Figure size 1080x432 with 2 Axes>"
            ],
            "image/png": "[encoded data removed]"
          },
          "metadata": {
            "needs_background": "light"
          }
        }
      ]
    },
    {
      "cell_type": "code",
      "source": [
        "from sklearn.dummy import DummyClassifier\n",
        "model = DummyClassifier(strategy='most_frequent')\n",
        "model.fit(X_train, y_train)\n",
        "pred_most = model.predict(X_test)\n",
        "\n",
        "print('예측 값 : ', np.unique(pred_most))"
      ],
      "metadata": {
        "colab": {
          "base_uri": "https://localhost:8080/"
        },
        "id": "0m_ughrPrU4D",
        "outputId": "0145373f-7b99-4f17-8b50-d0914a59b54f"
      },
      "execution_count": 25,
      "outputs": [
        {
          "output_type": "stream",
          "name": "stdout",
          "text": [
            "예측 값 :  [False]\n"
          ]
        }
      ]
    },
    {
      "cell_type": "code",
      "source": [
        "print('학습용셋 정확도 : ', model.score(X_train, y_train))\n",
        "print('테스트셋 정확도 : ', model.score(X_test, y_test))"
      ],
      "metadata": {
        "colab": {
          "base_uri": "https://localhost:8080/"
        },
        "id": "LAKwvygErxYi",
        "outputId": "1e182063-88a8-425f-bef3-eddbcffdf2c4"
      },
      "execution_count": 26,
      "outputs": [
        {
          "output_type": "stream",
          "name": "stdout",
          "text": [
            "학습용셋 정확도 :  0.9012620638455828\n",
            "테스트셋 정확도 :  0.8955555555555555\n"
          ]
        }
      ]
    },
    {
      "cell_type": "code",
      "source": [
        "from sklearn.dummy import DummyClassifier\n",
        "model = DummyClassifier(strategy='stratified')\n",
        "model.fit(X_train, y_train)\n",
        "pred_str = model.predict(X_test)\n",
        "\n",
        "print('예측 값 : ', np.unique(pred_str))\n",
        "print('학습용셋 정확도 : ', model.score(X_train, y_train))\n",
        "print('테스트셋 정확도 : ', model.score(X_test, y_test))"
      ],
      "metadata": {
        "colab": {
          "base_uri": "https://localhost:8080/"
        },
        "id": "PdvizPddr8sD",
        "outputId": "7a355ff8-c241-4dc8-fdda-73d08fa2bac9"
      },
      "execution_count": 27,
      "outputs": [
        {
          "output_type": "stream",
          "name": "stdout",
          "text": [
            "예측 값 :  [False  True]\n",
            "학습용셋 정확도 :  0.8270230141054195\n",
            "테스트셋 정확도 :  0.8088888888888889\n"
          ]
        }
      ]
    },
    {
      "cell_type": "code",
      "source": [
        "from sklearn.tree import DecisionTreeClassifier\n",
        "model = DecisionTreeClassifier(max_depth=2).fit(X_train, y_train)\n",
        "pred_tr = model.predict(X_test)\n",
        "\n",
        "print(\"예측 값 : \", np.unique(pred_tr))\n",
        "\n",
        "print(\"학습용셋 정확도 : \", model.score(X_train, y_train))\n",
        "print(\"테스트셋 정확도 : \", model.score(X_test, y_test))"
      ],
      "metadata": {
        "colab": {
          "base_uri": "https://localhost:8080/"
        },
        "id": "gXv1bZKusQ6a",
        "outputId": "930fd16e-eb1e-4fa5-aa96-921155d7d703"
      },
      "execution_count": 29,
      "outputs": [
        {
          "output_type": "stream",
          "name": "stdout",
          "text": [
            "예측 값 :  [False  True]\n",
            "학습용셋 정확도 :  0.9383815887156645\n",
            "테스트셋 정확도 :  0.9177777777777778\n"
          ]
        }
      ]
    },
    {
      "cell_type": "code",
      "source": [
        "from sklearn.linear_model import LogisticRegression\n",
        "model = LogisticRegression(C=0.1).fit(X_train, y_train)\n",
        "pred_lg = model.predict(X_test)\n",
        "\n",
        "print(\"예측 값 : \", np.unique(pred_lg))\n",
        "\n",
        "print(\"학습용셋 정확도 : \", model.score(X_train, y_train))\n",
        "print(\"테스트셋 정확도 : \", model.score(X_test, y_test))"
      ],
      "metadata": {
        "colab": {
          "base_uri": "https://localhost:8080/"
        },
        "id": "LLuOtH4UtHjv",
        "outputId": "5081cb3e-3d56-4ec3-867a-4a65f85ffc55"
      },
      "execution_count": 30,
      "outputs": [
        {
          "output_type": "stream",
          "name": "stdout",
          "text": [
            "예측 값 :  [False  True]\n",
            "학습용셋 정확도 :  0.9977728285077951\n",
            "테스트셋 정확도 :  0.9844444444444445\n"
          ]
        }
      ]
    },
    {
      "cell_type": "markdown",
      "source": [
        "## 오차행렬"
      ],
      "metadata": {
        "id": "zjI4wj-euefg"
      }
    },
    {
      "cell_type": "code",
      "source": [
        "!pip install mglearn"
      ],
      "metadata": {
        "colab": {
          "base_uri": "https://localhost:8080/"
        },
        "id": "1qFe_le7ug1U",
        "outputId": "3155850d-47f7-4124-9913-de4b9a8751ca"
      },
      "execution_count": 14,
      "outputs": [
        {
          "output_type": "stream",
          "name": "stdout",
          "text": [
            "Looking in indexes: https://pypi.org/simple, https://us-python.pkg.dev/colab-wheels/public/simple/\n",
            "Collecting mglearn\n",
            "  Downloading mglearn-0.1.9.tar.gz (540 kB)\n",
            "\u001b[K     |████████████████████████████████| 540 kB 5.1 MB/s \n",
            "\u001b[?25hRequirement already satisfied: numpy in /usr/local/lib/python3.7/dist-packages (from mglearn) (1.21.6)\n",
            "Requirement already satisfied: matplotlib in /usr/local/lib/python3.7/dist-packages (from mglearn) (3.2.2)\n",
            "Requirement already satisfied: scikit-learn in /usr/local/lib/python3.7/dist-packages (from mglearn) (1.0.2)\n",
            "Requirement already satisfied: pandas in /usr/local/lib/python3.7/dist-packages (from mglearn) (1.3.5)\n",
            "Requirement already satisfied: pillow in /usr/local/lib/python3.7/dist-packages (from mglearn) (7.1.2)\n",
            "Requirement already satisfied: cycler in /usr/local/lib/python3.7/dist-packages (from mglearn) (0.11.0)\n",
            "Requirement already satisfied: imageio in /usr/local/lib/python3.7/dist-packages (from mglearn) (2.9.0)\n",
            "Requirement already satisfied: joblib in /usr/local/lib/python3.7/dist-packages (from mglearn) (1.1.0)\n",
            "Requirement already satisfied: kiwisolver>=1.0.1 in /usr/local/lib/python3.7/dist-packages (from matplotlib->mglearn) (1.4.4)\n",
            "Requirement already satisfied: pyparsing!=2.0.4,!=2.1.2,!=2.1.6,>=2.0.1 in /usr/local/lib/python3.7/dist-packages (from matplotlib->mglearn) (3.0.9)\n",
            "Requirement already satisfied: python-dateutil>=2.1 in /usr/local/lib/python3.7/dist-packages (from matplotlib->mglearn) (2.8.2)\n",
            "Requirement already satisfied: typing-extensions in /usr/local/lib/python3.7/dist-packages (from kiwisolver>=1.0.1->matplotlib->mglearn) (4.1.1)\n",
            "Requirement already satisfied: six>=1.5 in /usr/local/lib/python3.7/dist-packages (from python-dateutil>=2.1->matplotlib->mglearn) (1.15.0)\n",
            "Requirement already satisfied: pytz>=2017.3 in /usr/local/lib/python3.7/dist-packages (from pandas->mglearn) (2022.1)\n",
            "Requirement already satisfied: threadpoolctl>=2.0.0 in /usr/local/lib/python3.7/dist-packages (from scikit-learn->mglearn) (3.1.0)\n",
            "Requirement already satisfied: scipy>=1.1.0 in /usr/local/lib/python3.7/dist-packages (from scikit-learn->mglearn) (1.7.3)\n",
            "Building wheels for collected packages: mglearn\n",
            "  Building wheel for mglearn (setup.py) ... \u001b[?25l\u001b[?25hdone\n",
            "  Created wheel for mglearn: filename=mglearn-0.1.9-py2.py3-none-any.whl size=582639 sha256=02e27fffa4644ad4cfa309ca0f39b0455db80348d3bfba5e7667a48f3d9666fe\n",
            "  Stored in directory: /root/.cache/pip/wheels/f1/17/e1/1720d6dcd70187b6b6c3750cb3508798f2b1d57c9d3214b08b\n",
            "Successfully built mglearn\n",
            "Installing collected packages: mglearn\n",
            "Successfully installed mglearn-0.1.9\n"
          ]
        }
      ]
    },
    {
      "cell_type": "code",
      "source": [
        "import mglearn"
      ],
      "metadata": {
        "id": "k8rmhBhAtLNU"
      },
      "execution_count": 15,
      "outputs": []
    },
    {
      "cell_type": "code",
      "source": [
        "mglearn.plots.plot_binary_confusion_matrix()"
      ],
      "metadata": {
        "colab": {
          "base_uri": "https://localhost:8080/",
          "height": 270
        },
        "id": "K9xnjuBJuiib",
        "outputId": "75c9dbe0-4c45-435a-ef04-490baf3e23b3"
      },
      "execution_count": 16,
      "outputs": [
        {
          "output_type": "display_data",
          "data": {
            "text/plain": [
              "<Figure size 432x288 with 1 Axes>"
            ],
            "image/png": "[encoded data removed]"
          },
          "metadata": {
            "needs_background": "light"
          }
        }
      ]
    },
    {
      "cell_type": "code",
      "source": [
        "from sklearn.metrics import confusion_matrix\n",
        "\n",
        "confusion = confusion_matrix(y_test, pred_lg)\n",
        "print(\"오차 행렬:\\n{}\".format(confusion))"
      ],
      "metadata": {
        "colab": {
          "base_uri": "https://localhost:8080/"
        },
        "id": "cEy0xCAmujeP",
        "outputId": "d4e9068c-3a1c-4e05-deef-2edcb1286453"
      },
      "execution_count": 31,
      "outputs": [
        {
          "output_type": "stream",
          "name": "stdout",
          "text": [
            "오차 행렬:\n",
            "[[402   1]\n",
            " [  6  41]]\n"
          ]
        }
      ]
    },
    {
      "cell_type": "code",
      "source": [
        "mglearn.plots.plot_confusion_matrix_illustration()"
      ],
      "metadata": {
        "colab": {
          "base_uri": "https://localhost:8080/",
          "height": 492
        },
        "id": "lwTJvZuKunGb",
        "outputId": "57b32963-4217-4c17-d68d-2d464bacb8da"
      },
      "execution_count": 32,
      "outputs": [
        {
          "output_type": "display_data",
          "data": {
            "text/plain": [
              "<Figure size 576x576 with 1 Axes>"
            ],
            "image/png": "[encoded data removed]"
          },
          "metadata": {
            "needs_background": "light"
          }
        }
      ]
    },
    {
      "cell_type": "code",
      "source": [
        "print(\"빈도 기반 더미 모델:\")\n",
        "print(confusion_matrix(y_test, pred_most))\n",
        "\n",
        "print(\"\\n분포기반 모델:\")\n",
        "print(confusion_matrix(y_test, pred_str))\n",
        "\n",
        "print(\"\\n결정 트리:\")\n",
        "print(confusion_matrix(y_test, pred_tr))\n",
        "\n",
        "print(\"\\n로지스틱 회귀\")\n",
        "print(confusion_matrix(y_test, pred_lg))"
      ],
      "metadata": {
        "colab": {
          "base_uri": "https://localhost:8080/"
        },
        "id": "ry_uj4sIun_d",
        "outputId": "b8cc18b4-4220-4740-9dc9-c01fe26239af"
      },
      "execution_count": 40,
      "outputs": [
        {
          "output_type": "stream",
          "name": "stdout",
          "text": [
            "빈도 기반 더미 모델:\n",
            "[[403   0]\n",
            " [ 47   0]]\n",
            "\n",
            "분포기반 모델:\n",
            "[[357  46]\n",
            " [ 40   7]]\n",
            "\n",
            "결정 트리:\n",
            "[[390  13]\n",
            " [ 24  23]]\n",
            "\n",
            "로지스틱 회귀\n",
            "[[402   1]\n",
            " [  6  41]]\n"
          ]
        }
      ]
    },
    {
      "cell_type": "markdown",
      "source": [
        "# F1 score"
      ],
      "metadata": {
        "id": "zTE9IbHDxuPM"
      }
    },
    {
      "cell_type": "code",
      "source": [
        "from sklearn.metrics import f1_score\n",
        "\n",
        "# 빈도기반 모델 f1-score\n",
        "print(\"무작위 더미 모델의 f1 score: \", f1_score(y_test, pred_most))\n",
        "\n",
        "# Dummy분류 f1-score\n",
        "print(\"분포기반 모델의 f1 score: \", f1_score(y_test, pred_str))\n",
        "\n",
        "# 의사결정트리\n",
        "print(\"트리 모델의 f1 score: : \", f1_score(y_test, pred_tr))\n",
        "\n",
        "# 로지스틱 \n",
        "print(\"로지스틱 회귀 모델의 f1 score : : \", f1_score(y_test, pred_lg))"
      ],
      "metadata": {
        "colab": {
          "base_uri": "https://localhost:8080/"
        },
        "id": "z4HCw4fyu0lu",
        "outputId": "4c48eea1-2d6e-4376-c58a-a630d62d399a"
      },
      "execution_count": 41,
      "outputs": [
        {
          "output_type": "stream",
          "name": "stdout",
          "text": [
            "무작위 더미 모델의 f1 score:  0.0\n",
            "분포기반 모델의 f1 score:  0.14\n",
            "트리 모델의 f1 score: :  0.5542168674698795\n",
            "로지스틱 회귀 모델의 f1 score : :  0.9213483146067415\n"
          ]
        }
      ]
    },
    {
      "cell_type": "code",
      "source": [
        ""
      ],
      "metadata": {
        "id": "2cc0WXDn0ReN"
      },
      "execution_count": null,
      "outputs": []
    }
  ]
}