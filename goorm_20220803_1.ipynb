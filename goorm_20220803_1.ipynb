{
  "nbformat": 4,
  "nbformat_minor": 0,
  "metadata": {
    "colab": {
      "name": "goorm_20220803_1.ipynb",
      "provenance": [],
      "authorship_tag": "ABX9TyOF+aUcwvT+0amw0W0dFijJ",
      "include_colab_link": true
    },
    "kernelspec": {
      "name": "python3",
      "display_name": "Python 3"
    },
    "language_info": {
      "name": "python"
    }
  },
  "cells": [
    {
      "cell_type": "markdown",
      "metadata": {
        "id": "view-in-github",
        "colab_type": "text"
      },
      "source": [
        "<a href=\"https://colab.research.google.com/github/vvilliscool/ML_LIB_Class_Goorm/blob/master/goorm_20220803_1.ipynb\" target=\"_parent\"><img src=\"https://colab.research.google.com/assets/colab-badge.svg\" alt=\"Open In Colab\"/></a>"
      ]
    },
    {
      "cell_type": "code",
      "execution_count": null,
      "metadata": {
        "id": "b9dA2NZLA7kc"
      },
      "outputs": [],
      "source": [
        "from sklearn.neighbors import KNeighborsClassifier\n",
        "from sklearn.model_selection import train_test_split \n",
        "\n",
        "### 01. 입력과 출력 나누기\n",
        "### 02. 데이터 나누고 자체 평가\n",
        "### 03. 모델 생성 \n",
        "\n",
        "sel = ['Pclass', 'SibSp', 'Parch']\n",
        "\n",
        "X_tr = train[sel]\n",
        "y = train['Survived']\n",
        "X_last_test = test[sel]\n",
        "\n",
        "X_train, X_test, y_train, y_test = train_test_split(X_tr, y, random_state=0)"
      ]
    },
    {
      "cell_type": "code",
      "source": [
        ""
      ],
      "metadata": {
        "id": "oZcs-txrnuo7"
      },
      "execution_count": null,
      "outputs": []
    },
    {
      "cell_type": "code",
      "source": [
        "### 결측치 처리\n",
        "### Embarked\n",
        "print( train['Embarked'].value_counts() )\n",
        "train['Embarked'] = train['Embarked'].fillna(\"S\")\n",
        "train['Embarked'].isnull().sum()"
      ],
      "metadata": {
        "id": "q8gcW1ZZhJzU"
      },
      "execution_count": null,
      "outputs": []
    },
    {
      "cell_type": "code",
      "source": [
        "### 라벨 인코딩\n",
        "dict_lbl = { \"S\":0, \"C\":1, \"Q\":2}\n",
        "train['Embarked_lbl'] = train['Embarked'].map(dict_lbl).astype(\"int32\")\n",
        "test['Embarked_lbl'] = test['Embarked'].map(dict_lbl).astype(\"int32\")\n",
        "print( train['Embarked_lbl'].value_counts() )\n",
        "\n",
        "dict_sex_lbl = { \"male\":0, \"female\":1}\n",
        "train['Sex_lbl'] = train['Sex'].map(dict_sex_lbl).astype(\"int32\")\n",
        "test['Sex_lbl'] = test['Sex'].map(dict_sex_lbl).astype(\"int32\")"
      ],
      "metadata": {
        "id": "yx1-gfHNnrj7"
      },
      "execution_count": null,
      "outputs": []
    },
    {
      "cell_type": "code",
      "source": [
        ""
      ],
      "metadata": {
        "id": "UTiSHX_3nrhK"
      },
      "execution_count": null,
      "outputs": []
    },
    {
      "cell_type": "code",
      "source": [
        "from sklearn.model_selection import cross_val_score\n",
        "from sklearn.model_selection import KFold\n",
        "from sklearn.ensemble import RandomForestClassifier"
      ],
      "metadata": {
        "id": "BCJjDzGIhJtg"
      },
      "execution_count": null,
      "outputs": []
    },
    {
      "cell_type": "code",
      "source": [
        "kfold = KFold(n_splits=5, shuffle=True, random_state=0)\n",
        "model = KNeighborsClassifier()\n",
        "\n",
        "scores = cross_val_score(model, X_train, y_train, cv=kfold)\n",
        "print(scores, scores.mean())"
      ],
      "metadata": {
        "id": "51yvB4dVhKcZ"
      },
      "execution_count": null,
      "outputs": []
    },
    {
      "cell_type": "code",
      "source": [
        ""
      ],
      "metadata": {
        "id": "B0UlwY_khJqc"
      },
      "execution_count": null,
      "outputs": []
    },
    {
      "cell_type": "code",
      "source": [
        "model = KNeighborsClassifier()\n",
        "model.fit(X_train, y_train)\n",
        "\n",
        "print( model.score(X_train, y_train) )\n",
        "print( model.score(X_test, y_test) )"
      ],
      "metadata": {
        "id": "PUgAbOqnf3Jn"
      },
      "execution_count": null,
      "outputs": []
    },
    {
      "cell_type": "code",
      "source": [
        "## 제출\n",
        "pred = model.predict(X_last_test)\n",
        "sub['Survived'] = pred\n",
        "sub.to_csv(\"baseline.csv\", index=False)"
      ],
      "metadata": {
        "id": "uOcYMqaYf3Gw"
      },
      "execution_count": null,
      "outputs": []
    },
    {
      "cell_type": "code",
      "source": [
        ""
      ],
      "metadata": {
        "id": "d8jRuCg2f3EH"
      },
      "execution_count": null,
      "outputs": []
    },
    {
      "cell_type": "code",
      "source": [
        ""
      ],
      "metadata": {
        "id": "G4MjqhRAnpCq"
      },
      "execution_count": null,
      "outputs": []
    }
  ]
}