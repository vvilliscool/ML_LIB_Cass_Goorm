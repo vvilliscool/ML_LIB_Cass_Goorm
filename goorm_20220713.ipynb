{
  "nbformat": 4,
  "nbformat_minor": 0,
  "metadata": {
    "colab": {
      "name": "goorm_20220713.ipynb",
      "provenance": [],
      "authorship_tag": "ABX9TyP1KIXz2/m9G92q/vnBg+Q9",
      "include_colab_link": true
    },
    "kernelspec": {
      "name": "python3",
      "display_name": "Python 3"
    },
    "language_info": {
      "name": "python"
    }
  },
  "cells": [
    {
      "cell_type": "markdown",
      "metadata": {
        "id": "view-in-github",
        "colab_type": "text"
      },
      "source": [
        "<a href=\"https://colab.research.google.com/github/vvilliscool/class_goorm/blob/master/goorm_20220713.ipynb\" target=\"_parent\"><img src=\"https://colab.research.google.com/assets/colab-badge.svg\" alt=\"Open In Colab\"/></a>"
      ]
    },
    {
      "cell_type": "code",
      "execution_count": 1,
      "metadata": {
        "id": "7XW5E8BT3jGN"
      },
      "outputs": [],
      "source": [
        "from keras.datasets import mnist\n",
        "from keras.utils import np_utils"
      ]
    },
    {
      "cell_type": "code",
      "source": [
        "import numpy\n",
        "import numpy as np\n",
        "import sys\n",
        "import tensorflow as tf"
      ],
      "metadata": {
        "id": "MKnybaZo_06p"
      },
      "execution_count": 2,
      "outputs": []
    },
    {
      "cell_type": "code",
      "source": [
        "# 난수 생성기의 패턴이 지정되지 않았을때, \n",
        "print( numpy.random.rand(4) )\n",
        "print( numpy.random.rand(4) )"
      ],
      "metadata": {
        "colab": {
          "base_uri": "https://localhost:8080/"
        },
        "id": "WlJm9pR0B7hR",
        "outputId": "d56d758d-0a20-4750-8b03-eeeff2c3d18c"
      },
      "execution_count": 3,
      "outputs": [
        {
          "output_type": "stream",
          "name": "stdout",
          "text": [
            "[0.76623492 0.43366441 0.98611334 0.36768228]\n",
            "[0.1279824  0.23422193 0.5870702  0.11967605]\n"
          ]
        }
      ]
    },
    {
      "cell_type": "code",
      "source": [
        "# 난수 생성기 패턴 지정\n",
        "numpy.random.seed(0)\n",
        "print( numpy.random.rand(4) )\n",
        "numpy.random.seed(0)\n",
        "print( numpy.random.rand(4) )"
      ],
      "metadata": {
        "colab": {
          "base_uri": "https://localhost:8080/"
        },
        "id": "GbEnK090B7dT",
        "outputId": "4c517b0c-0ce9-4827-9655-98e38cea38ef"
      },
      "execution_count": 4,
      "outputs": [
        {
          "output_type": "stream",
          "name": "stdout",
          "text": [
            "[0.5488135  0.71518937 0.60276338 0.54488318]\n",
            "[0.5488135  0.71518937 0.60276338 0.54488318]\n"
          ]
        }
      ]
    },
    {
      "cell_type": "code",
      "source": [
        "# 처음 다운일 경우, 데이터 다운로드 시간이 걸릴 수 있음. \n",
        "(X_train, y_train), (X_test, y_test) = mnist.load_data()\n",
        "print(X_train.shape, y_train.shape)\n",
        "print(X_test.shape, y_test.shape)"
      ],
      "metadata": {
        "colab": {
          "base_uri": "https://localhost:8080/"
        },
        "id": "n5ZWVeT8_2YU",
        "outputId": "84530a27-2d10-4c86-94d6-781bc9bdfcd6"
      },
      "execution_count": 5,
      "outputs": [
        {
          "output_type": "stream",
          "name": "stdout",
          "text": [
            "(60000, 28, 28) (60000,)\n",
            "(10000, 28, 28) (10000,)\n"
          ]
        }
      ]
    },
    {
      "cell_type": "code",
      "source": [
        "import matplotlib.pyplot as plt\n",
        "\n",
        "fig, axes = plt.subplots(3, 5, figsize=(18,12) )\n",
        "\n",
        "print(\"label={}\".format(y_train[0:15]))   # x데이터 0~14개 가져오기\n",
        "\n",
        "for image, ax in zip( X_train, axes.ravel() ):\n",
        "    ax.imshow(image) # 이미지 표시"
      ],
      "metadata": {
        "colab": {
          "base_uri": "https://localhost:8080/",
          "height": 700
        },
        "id": "YWsHk0FA_4iN",
        "outputId": "a8467a02-04a8-4f08-b5ad-ffd88be7a06a"
      },
      "execution_count": 6,
      "outputs": [
        {
          "output_type": "stream",
          "name": "stdout",
          "text": [
            "label=[5 0 4 1 9 2 1 3 1 4 3 5 3 6 1]\n"
          ]
        },
        {
          "output_type": "display_data",
          "data": {
            "text/plain": [
              "<Figure size 1296x864 with 15 Axes>"
            ],
            "image/png": "[encoded data removed]"
          },
          "metadata": {
            "needs_background": "light"
          }
        }
      ]
    },
    {
      "cell_type": "code",
      "source": [
        "X_train = X_train.reshape(X_train.shape[0],784)   # 60000, 28, 28 -> 60000, 784로 변경\n",
        "# 데이터 값의 범위 0~255 -> 0~1 \n",
        "X_train.astype('float64') \n",
        "X_train = X_train/255"
      ],
      "metadata": {
        "id": "OHFRqLcW_6i5"
      },
      "execution_count": 7,
      "outputs": []
    },
    {
      "cell_type": "code",
      "source": [
        "print(X_train.shape)               # 데이터 크기\n",
        "print(\"데이터의 최대, 최소 :\", np.min(X_train), np.max(X_train) )"
      ],
      "metadata": {
        "colab": {
          "base_uri": "https://localhost:8080/"
        },
        "id": "i1WTgIABAIZP",
        "outputId": "16b44455-4227-4286-81dd-6cfc2262167d"
      },
      "execution_count": 8,
      "outputs": [
        {
          "output_type": "stream",
          "name": "stdout",
          "text": [
            "(60000, 784)\n",
            "데이터의 최대, 최소 : 0.0 1.0\n"
          ]
        }
      ]
    },
    {
      "cell_type": "code",
      "source": [
        "# 테스트 데이터 전처리\n",
        "X_test = X_test.reshape(X_test.shape[0],784)\n",
        "X_test.astype('float64')\n",
        "X_test = X_test/255"
      ],
      "metadata": {
        "id": "Gmeh5q_MALZJ"
      },
      "execution_count": 9,
      "outputs": []
    },
    {
      "cell_type": "code",
      "source": [
        "# OneHotEncoding - 10진수의 값을 0, 1의 값을 갖는 벡터로 표현\n",
        "y_train_1D = np_utils.to_categorical(y_train, 10)\n",
        "y_test_1D = np_utils.to_categorical(y_test, 10)"
      ],
      "metadata": {
        "id": "5yonR-wwAqds"
      },
      "execution_count": 10,
      "outputs": []
    },
    {
      "cell_type": "code",
      "source": [
        "y_train[0:4]"
      ],
      "metadata": {
        "colab": {
          "base_uri": "https://localhost:8080/"
        },
        "id": "fdzH9PGmAsb3",
        "outputId": "3e6d7c6b-1db4-45f3-aa55-9e91a619dad4"
      },
      "execution_count": 11,
      "outputs": [
        {
          "output_type": "execute_result",
          "data": {
            "text/plain": [
              "array([5, 0, 4, 1], dtype=uint8)"
            ]
          },
          "metadata": {},
          "execution_count": 11
        }
      ]
    },
    {
      "cell_type": "code",
      "source": [
        "y_train_1D[0:4]"
      ],
      "metadata": {
        "colab": {
          "base_uri": "https://localhost:8080/"
        },
        "id": "Rq5b_79iAtwi",
        "outputId": "393e8726-06db-455a-b1a9-85aebf98c2a1"
      },
      "execution_count": 12,
      "outputs": [
        {
          "output_type": "execute_result",
          "data": {
            "text/plain": [
              "array([[0., 0., 0., 0., 0., 1., 0., 0., 0., 0.],\n",
              "       [1., 0., 0., 0., 0., 0., 0., 0., 0., 0.],\n",
              "       [0., 0., 0., 0., 1., 0., 0., 0., 0., 0.],\n",
              "       [0., 1., 0., 0., 0., 0., 0., 0., 0., 0.]], dtype=float32)"
            ]
          },
          "metadata": {},
          "execution_count": 12
        }
      ]
    },
    {
      "cell_type": "code",
      "source": [
        "from keras.models import Sequential\n",
        "from keras.layers import Dense"
      ],
      "metadata": {
        "id": "pYPPgZqrCRcG"
      },
      "execution_count": 13,
      "outputs": []
    },
    {
      "cell_type": "code",
      "source": [
        "m = Sequential()\n",
        "m.add(Dense(512,input_dim=784, activation='relu'))\n",
        "m.add(Dense(128, activation='relu') )\n",
        "m.add(Dense(10,activation='softmax'))  #softmax"
      ],
      "metadata": {
        "id": "hjkI1mZPCSm9"
      },
      "execution_count": 14,
      "outputs": []
    },
    {
      "cell_type": "code",
      "source": [
        "m.compile(loss=\"categorical_crossentropy\", \n",
        "         optimizer='adam',\n",
        "         metrics=['accuracy'])"
      ],
      "metadata": {
        "id": "6js8T5jsAurP"
      },
      "execution_count": 15,
      "outputs": []
    },
    {
      "cell_type": "code",
      "source": [
        "### 배치 사이즈 200, epochs 30회 실행,\n",
        "history = m.fit(X_train, y_train_1D, validation_data=(X_test, y_test_1D),\n",
        "                epochs=30,\n",
        "                batch_size=200,\n",
        "                verbose=1)"
      ],
      "metadata": {
        "colab": {
          "base_uri": "https://localhost:8080/"
        },
        "id": "U5SY7RPUBKkA",
        "outputId": "8fd1c298-b53b-4a50-8011-c172c6103e4f"
      },
      "execution_count": 16,
      "outputs": [
        {
          "output_type": "stream",
          "name": "stdout",
          "text": [
            "Epoch 1/30\n",
            "300/300 [==============================] - 9s 24ms/step - loss: 0.2724 - accuracy: 0.9229 - val_loss: 0.1292 - val_accuracy: 0.9609\n",
            "Epoch 2/30\n",
            "300/300 [==============================] - 4s 13ms/step - loss: 0.0968 - accuracy: 0.9709 - val_loss: 0.0835 - val_accuracy: 0.9745\n",
            "Epoch 3/30\n",
            "300/300 [==============================] - 4s 13ms/step - loss: 0.0615 - accuracy: 0.9818 - val_loss: 0.0782 - val_accuracy: 0.9777\n",
            "Epoch 4/30\n",
            "300/300 [==============================] - 4s 14ms/step - loss: 0.0430 - accuracy: 0.9862 - val_loss: 0.0663 - val_accuracy: 0.9795\n",
            "Epoch 5/30\n",
            "300/300 [==============================] - 4s 13ms/step - loss: 0.0311 - accuracy: 0.9902 - val_loss: 0.0650 - val_accuracy: 0.9793\n",
            "Epoch 6/30\n",
            "300/300 [==============================] - 5s 15ms/step - loss: 0.0211 - accuracy: 0.9933 - val_loss: 0.0702 - val_accuracy: 0.9792\n",
            "Epoch 7/30\n",
            "300/300 [==============================] - 4s 13ms/step - loss: 0.0176 - accuracy: 0.9946 - val_loss: 0.0698 - val_accuracy: 0.9801\n",
            "Epoch 8/30\n",
            "300/300 [==============================] - 4s 13ms/step - loss: 0.0133 - accuracy: 0.9957 - val_loss: 0.0687 - val_accuracy: 0.9817\n",
            "Epoch 9/30\n",
            "300/300 [==============================] - 4s 13ms/step - loss: 0.0100 - accuracy: 0.9970 - val_loss: 0.0726 - val_accuracy: 0.9806\n",
            "Epoch 10/30\n",
            "300/300 [==============================] - 4s 13ms/step - loss: 0.0098 - accuracy: 0.9969 - val_loss: 0.0927 - val_accuracy: 0.9767\n",
            "Epoch 11/30\n",
            "300/300 [==============================] - 4s 13ms/step - loss: 0.0124 - accuracy: 0.9959 - val_loss: 0.0807 - val_accuracy: 0.9816\n",
            "Epoch 12/30\n",
            "300/300 [==============================] - 4s 13ms/step - loss: 0.0098 - accuracy: 0.9966 - val_loss: 0.0908 - val_accuracy: 0.9785\n",
            "Epoch 13/30\n",
            "300/300 [==============================] - 4s 14ms/step - loss: 0.0067 - accuracy: 0.9978 - val_loss: 0.0845 - val_accuracy: 0.9802\n",
            "Epoch 14/30\n",
            "300/300 [==============================] - 4s 13ms/step - loss: 0.0068 - accuracy: 0.9975 - val_loss: 0.0805 - val_accuracy: 0.9796\n",
            "Epoch 15/30\n",
            "300/300 [==============================] - 4s 13ms/step - loss: 0.0097 - accuracy: 0.9966 - val_loss: 0.0873 - val_accuracy: 0.9801\n",
            "Epoch 16/30\n",
            "300/300 [==============================] - 4s 13ms/step - loss: 0.0105 - accuracy: 0.9964 - val_loss: 0.0873 - val_accuracy: 0.9810\n",
            "Epoch 17/30\n",
            "300/300 [==============================] - 4s 14ms/step - loss: 0.0066 - accuracy: 0.9976 - val_loss: 0.0999 - val_accuracy: 0.9795\n",
            "Epoch 18/30\n",
            "300/300 [==============================] - 4s 13ms/step - loss: 0.0037 - accuracy: 0.9989 - val_loss: 0.0849 - val_accuracy: 0.9836\n",
            "Epoch 19/30\n",
            "300/300 [==============================] - 4s 14ms/step - loss: 0.0057 - accuracy: 0.9980 - val_loss: 0.0977 - val_accuracy: 0.9796\n",
            "Epoch 20/30\n",
            "300/300 [==============================] - 4s 13ms/step - loss: 0.0097 - accuracy: 0.9970 - val_loss: 0.0983 - val_accuracy: 0.9792\n",
            "Epoch 21/30\n",
            "300/300 [==============================] - 4s 13ms/step - loss: 0.0062 - accuracy: 0.9978 - val_loss: 0.0859 - val_accuracy: 0.9830\n",
            "Epoch 22/30\n",
            "300/300 [==============================] - 4s 13ms/step - loss: 0.0031 - accuracy: 0.9989 - val_loss: 0.0846 - val_accuracy: 0.9835\n",
            "Epoch 23/30\n",
            "300/300 [==============================] - 4s 13ms/step - loss: 0.0026 - accuracy: 0.9992 - val_loss: 0.1170 - val_accuracy: 0.9793\n",
            "Epoch 24/30\n",
            "300/300 [==============================] - 4s 14ms/step - loss: 0.0034 - accuracy: 0.9990 - val_loss: 0.1166 - val_accuracy: 0.9803\n",
            "Epoch 25/30\n",
            "300/300 [==============================] - 4s 15ms/step - loss: 0.0110 - accuracy: 0.9963 - val_loss: 0.1043 - val_accuracy: 0.9805\n",
            "Epoch 26/30\n",
            "300/300 [==============================] - 4s 13ms/step - loss: 0.0058 - accuracy: 0.9982 - val_loss: 0.0889 - val_accuracy: 0.9825\n",
            "Epoch 27/30\n",
            "300/300 [==============================] - 4s 14ms/step - loss: 0.0032 - accuracy: 0.9988 - val_loss: 0.0977 - val_accuracy: 0.9816\n",
            "Epoch 28/30\n",
            "300/300 [==============================] - 6s 19ms/step - loss: 0.0046 - accuracy: 0.9985 - val_loss: 0.0864 - val_accuracy: 0.9838\n",
            "Epoch 29/30\n",
            "300/300 [==============================] - 4s 14ms/step - loss: 0.0034 - accuracy: 0.9990 - val_loss: 0.1049 - val_accuracy: 0.9828\n",
            "Epoch 30/30\n",
            "300/300 [==============================] - 4s 13ms/step - loss: 0.0040 - accuracy: 0.9987 - val_loss: 0.0972 - val_accuracy: 0.9834\n"
          ]
        }
      ]
    },
    {
      "cell_type": "code",
      "source": [
        "print(\"학습용 데이터 셋 Accuracy : %.4f\" %(m.evaluate(X_train, y_train_1D)[1]))\n",
        "print(\"테스트용 데이터 셋 Accuracy : %.4f\" %(m.evaluate(X_test, y_test_1D)[1]))"
      ],
      "metadata": {
        "colab": {
          "base_uri": "https://localhost:8080/"
        },
        "id": "Cr1HYFdsCWJ8",
        "outputId": "64c11cf1-724e-4949-ef1f-973f8e72e8f9"
      },
      "execution_count": 17,
      "outputs": [
        {
          "output_type": "stream",
          "name": "stdout",
          "text": [
            "1875/1875 [==============================] - 6s 3ms/step - loss: 0.0017 - accuracy: 0.9995\n",
            "학습용 데이터 셋 Accuracy : 0.9995\n",
            "313/313 [==============================] - 1s 3ms/step - loss: 0.0972 - accuracy: 0.9834\n",
            "테스트용 데이터 셋 Accuracy : 0.9834\n"
          ]
        }
      ]
    },
    {
      "cell_type": "code",
      "source": [
        "pred = m.predict(X_test)"
      ],
      "metadata": {
        "id": "ImGSlx8SCXI3"
      },
      "execution_count": 18,
      "outputs": []
    },
    {
      "cell_type": "code",
      "source": [
        "print( pred.shape )\n",
        "print( \"예측값 : \", pred[1] )\n",
        "print( \"예측값 중 가장 높은 값의 위치 : \", np.argmax(pred[1]) )"
      ],
      "metadata": {
        "colab": {
          "base_uri": "https://localhost:8080/"
        },
        "id": "U-2gVTvNCY90",
        "outputId": "a86ffdab-fb59-43d2-8827-86d0f487dfba"
      },
      "execution_count": 19,
      "outputs": [
        {
          "output_type": "stream",
          "name": "stdout",
          "text": [
            "(10000, 10)\n",
            "예측값 :  [6.5133856e-15 1.0799938e-12 1.0000000e+00 7.8823877e-18 2.0811154e-27\n",
            " 8.3523429e-25 4.1031130e-17 2.0983907e-19 7.8056749e-16 8.2736181e-29]\n",
            "예측값 중 가장 높은 값의 위치 :  2\n"
          ]
        }
      ]
    }
  ]
}