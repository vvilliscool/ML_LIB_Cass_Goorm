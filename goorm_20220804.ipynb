{
  "nbformat": 4,
  "nbformat_minor": 0,
  "metadata": {
    "colab": {
      "name": "goorm_20220804.ipynb",
      "provenance": [],
      "authorship_tag": "ABX9TyO1FxnepCKp+QKreJjDLRPV",
      "include_colab_link": true
    },
    "kernelspec": {
      "name": "python3",
      "display_name": "Python 3"
    },
    "language_info": {
      "name": "python"
    }
  },
  "cells": [
    {
      "cell_type": "markdown",
      "metadata": {
        "id": "view-in-github",
        "colab_type": "text"
      },
      "source": [
        "<a href=\"https://colab.research.google.com/github/vvilliscool/ML_LIB_Class_Goorm/blob/master/goorm_20220804.ipynb\" target=\"_parent\"><img src=\"https://colab.research.google.com/assets/colab-badge.svg\" alt=\"Open In Colab\"/></a>"
      ]
    },
    {
      "cell_type": "code",
      "execution_count": null,
      "metadata": {
        "id": "6hkPnjsmYWOU"
      },
      "outputs": [],
      "source": [
        "import pandas as pd\n",
        "import numpy as np\n",
        "from sklearn.model_selection import train_test_split\n",
        "import matplotlib.pyplot as plt\n",
        "import seaborn as sns"
      ]
    },
    {
      "cell_type": "code",
      "source": [
        "from sklearn.datasets import load_digits\n",
        "\n",
        "digits = load_digits()\n",
        "print(digits.data.shape)\n",
        "print(digits.keys(), digits.target)\n",
        "print(np.unique( digits.target ) )\n",
        "sns.countplot(digits.target)"
      ],
      "metadata": {
        "colab": {
          "base_uri": "https://localhost:8080/",
          "height": 394
        },
        "id": "nFu3zBrKYZIQ",
        "outputId": "7a5abfef-3da3-49fa-addf-fe83df9f8a5f"
      },
      "execution_count": null,
      "outputs": [
        {
          "output_type": "stream",
          "name": "stdout",
          "text": [
            "(1797, 64)\n",
            "dict_keys(['data', 'target', 'frame', 'feature_names', 'target_names', 'images', 'DESCR']) [0 1 2 ... 8 9 8]\n",
            "[0 1 2 3 4 5 6 7 8 9]\n"
          ]
        },
        {
          "output_type": "stream",
          "name": "stderr",
          "text": [
            "/usr/local/lib/python3.7/dist-packages/seaborn/_decorators.py:43: FutureWarning: Pass the following variable as a keyword arg: x. From version 0.12, the only valid positional argument will be `data`, and passing other arguments without an explicit keyword will result in an error or misinterpretation.\n",
            "  FutureWarning\n"
          ]
        },
        {
          "output_type": "execute_result",
          "data": {
            "text/plain": [
              "<matplotlib.axes._subplots.AxesSubplot at 0x7f2dc5280f10>"
            ]
          },
          "metadata": {},
          "execution_count": 2
        },
        {
          "output_type": "display_data",
          "data": {
            "text/plain": [
              "<Figure size 432x288 with 1 Axes>"
            ],
            "image/png": "[encoded data removed]"
          },
          "metadata": {
            "needs_background": "light"
          }
        }
      ]
    },
    {
      "cell_type": "code",
      "source": [
        "X = digits.data             # 입력  \n",
        "y = digits.target == 9      # 출력\n",
        "\n",
        "X_train, X_test, y_train, y_test = train_test_split(X, y, random_state=0)"
      ],
      "metadata": {
        "id": "Ei6POJRCYbW0"
      },
      "execution_count": null,
      "outputs": []
    },
    {
      "cell_type": "code",
      "source": [
        "plt.figure(figsize=(15,6))\n",
        "plt.subplot(1, 2, 1)\n",
        "# y_train의 값 확인\n",
        "sns.countplot(y_train)\n",
        "plt.title(\"train\")\n",
        "\n",
        "plt.subplot(1, 2, 2)\n",
        "# y_test의 값 확인\n",
        "sns.countplot(y_test)\n",
        "plt.title(\"test\")"
      ],
      "metadata": {
        "colab": {
          "base_uri": "https://localhost:8080/",
          "height": 501
        },
        "id": "RteLthDpYeKU",
        "outputId": "a15a3306-bcb7-4d7b-8a81-1f3253978723"
      },
      "execution_count": null,
      "outputs": [
        {
          "output_type": "stream",
          "name": "stderr",
          "text": [
            "/usr/local/lib/python3.7/dist-packages/seaborn/_decorators.py:43: FutureWarning: Pass the following variable as a keyword arg: x. From version 0.12, the only valid positional argument will be `data`, and passing other arguments without an explicit keyword will result in an error or misinterpretation.\n",
            "  FutureWarning\n",
            "/usr/local/lib/python3.7/dist-packages/seaborn/_decorators.py:43: FutureWarning: Pass the following variable as a keyword arg: x. From version 0.12, the only valid positional argument will be `data`, and passing other arguments without an explicit keyword will result in an error or misinterpretation.\n",
            "  FutureWarning\n"
          ]
        },
        {
          "output_type": "execute_result",
          "data": {
            "text/plain": [
              "Text(0.5, 1.0, 'test')"
            ]
          },
          "metadata": {},
          "execution_count": 4
        },
        {
          "output_type": "display_data",
          "data": {
            "text/plain": [
              "<Figure size 1080x432 with 2 Axes>"
            ],
            "image/png": "[encoded data removed]"
          },
          "metadata": {
            "needs_background": "light"
          }
        }
      ]
    },
    {
      "cell_type": "code",
      "source": [
        "from sklearn.dummy import DummyClassifier\n",
        "dummy_model = DummyClassifier(strategy='most_frequent').fit(X_train, y_train)\n",
        "pred_most_frequent = dummy_model.predict(X_test)\n",
        "\n",
        "print(\"예측된 레이블의 고유값: {}\".format(np.unique(pred_most_frequent)))\n",
        "print(\"테스트 평가 정확도 : {:.2f}\".format(dummy_model.score(X_test, y_test)))"
      ],
      "metadata": {
        "colab": {
          "base_uri": "https://localhost:8080/"
        },
        "id": "mTFbc20aYf5w",
        "outputId": "9a18226c-8204-4947-9446-424aea6f4602"
      },
      "execution_count": null,
      "outputs": [
        {
          "output_type": "stream",
          "name": "stdout",
          "text": [
            "예측된 레이블의 고유값: [False]\n",
            "테스트 평가 정확도 : 0.90\n"
          ]
        }
      ]
    },
    {
      "cell_type": "code",
      "source": [
        "from sklearn.tree import DecisionTreeClassifier\n",
        "tree = DecisionTreeClassifier(max_depth=2).fit(X_train, y_train)\n",
        "pred_tree = tree.predict(X_test)\n",
        "\n",
        "print(\"학습용 평가 정확도 : {:.2f}\".format(tree.score(X_train, y_train)))\n",
        "print(\"테스트 평가 정확도: {:.2f}\".format(tree.score(X_test, y_test)))"
      ],
      "metadata": {
        "colab": {
          "base_uri": "https://localhost:8080/"
        },
        "id": "ohPU74caYirA",
        "outputId": "6105bf22-8847-43ad-831d-0495505098fa"
      },
      "execution_count": null,
      "outputs": [
        {
          "output_type": "stream",
          "name": "stdout",
          "text": [
            "학습용 평가 정확도 : 0.94\n",
            "테스트 평가 정확도: 0.92\n"
          ]
        }
      ]
    },
    {
      "cell_type": "markdown",
      "source": [
        "오차행렬이용"
      ],
      "metadata": {
        "id": "KXZCGgJXZStX"
      }
    },
    {
      "cell_type": "code",
      "source": [
        "from sklearn.linear_model import LogisticRegression\n",
        "\n",
        "logreg = LogisticRegression(C=0.1).fit(X_train, y_train)\n",
        "pred_logreg = logreg.predict(X_test)\n",
        "\n",
        "print(\"logreg 점수: {:.2f}\".format(logreg.score(X_test, y_test)))\n",
        "\n",
        "from sklearn.metrics import confusion_matrix\n",
        "\n",
        "confusion = confusion_matrix(y_test, pred_logreg)\n",
        "print(\"오차 행렬:\\n{}\".format(confusion))"
      ],
      "metadata": {
        "colab": {
          "base_uri": "https://localhost:8080/"
        },
        "id": "Ki7aoEkoYlVp",
        "outputId": "4ce63905-160a-4c8a-e37a-e45e24134853"
      },
      "execution_count": null,
      "outputs": [
        {
          "output_type": "stream",
          "name": "stdout",
          "text": [
            "logreg 점수: 0.98\n",
            "오차 행렬:\n",
            "[[402   1]\n",
            " [  6  41]]\n"
          ]
        },
        {
          "output_type": "stream",
          "name": "stderr",
          "text": [
            "/usr/local/lib/python3.7/dist-packages/sklearn/linear_model/_logistic.py:818: ConvergenceWarning: lbfgs failed to converge (status=1):\n",
            "STOP: TOTAL NO. of ITERATIONS REACHED LIMIT.\n",
            "\n",
            "Increase the number of iterations (max_iter) or scale the data as shown in:\n",
            "    https://scikit-learn.org/stable/modules/preprocessing.html\n",
            "Please also refer to the documentation for alternative solver options:\n",
            "    https://scikit-learn.org/stable/modules/linear_model.html#logistic-regression\n",
            "  extra_warning_msg=_LOGISTIC_SOLVER_CONVERGENCE_MSG,\n"
          ]
        }
      ]
    },
    {
      "cell_type": "markdown",
      "source": [
        "### 다양한 평가지표\n",
        " * 정확도 : TP + TN/(TP+FP+FN+TN) - 전체데이터중에 정확한 예측한 비율\n",
        " * 정밀도 : TP/(TP+FP)\n",
        "    * 예측을 Positive로 한 것중에 실제로 맞춘 것(Positive)\n",
        " * 민감도 or 재현율, TPRate\n",
        "    * TP/(TP+FN)\n",
        "    * 실제 Positive 에서 예측을 정확하게 맞춘 것의 비율\n",
        " * 특이도 \n",
        "    * 실제 음성(Negative)에서 정확하게 맞춘 것.\n",
        "    * TN  / (FP + TN)\n",
        " * FPRate\n",
        "    * 실제 음성(Negative)에서 예측을 실패한 것.\n",
        "    * FP / (FP + TN)    "
      ],
      "metadata": {
        "id": "b1hqH2YOcTCm"
      }
    },
    {
      "cell_type": "code",
      "source": [
        "from sklearn.metrics import classification_report\n",
        "print(classification_report(y_test, pred_most_frequent,\n",
        "                           target_names=[\"not 9\", \"is 9\"]))"
      ],
      "metadata": {
        "colab": {
          "base_uri": "https://localhost:8080/"
        },
        "id": "R1meA_4GZUjp",
        "outputId": "73a4907e-fd49-4ba2-8c14-fcba46dc354e"
      },
      "execution_count": null,
      "outputs": [
        {
          "output_type": "stream",
          "name": "stdout",
          "text": [
            "              precision    recall  f1-score   support\n",
            "\n",
            "       not 9       0.90      1.00      0.94       403\n",
            "        is 9       0.00      0.00      0.00        47\n",
            "\n",
            "    accuracy                           0.90       450\n",
            "   macro avg       0.45      0.50      0.47       450\n",
            "weighted avg       0.80      0.90      0.85       450\n",
            "\n"
          ]
        },
        {
          "output_type": "stream",
          "name": "stderr",
          "text": [
            "/usr/local/lib/python3.7/dist-packages/sklearn/metrics/_classification.py:1318: UndefinedMetricWarning: Precision and F-score are ill-defined and being set to 0.0 in labels with no predicted samples. Use `zero_division` parameter to control this behavior.\n",
            "  _warn_prf(average, modifier, msg_start, len(result))\n",
            "/usr/local/lib/python3.7/dist-packages/sklearn/metrics/_classification.py:1318: UndefinedMetricWarning: Precision and F-score are ill-defined and being set to 0.0 in labels with no predicted samples. Use `zero_division` parameter to control this behavior.\n",
            "  _warn_prf(average, modifier, msg_start, len(result))\n",
            "/usr/local/lib/python3.7/dist-packages/sklearn/metrics/_classification.py:1318: UndefinedMetricWarning: Precision and F-score are ill-defined and being set to 0.0 in labels with no predicted samples. Use `zero_division` parameter to control this behavior.\n",
            "  _warn_prf(average, modifier, msg_start, len(result))\n"
          ]
        }
      ]
    },
    {
      "cell_type": "code",
      "source": [
        "dummy = DummyClassifier(strategy='stratified').fit(X_train, y_train)  \n",
        "pred_dummy = dummy.predict(X_test)\n",
        "\n",
        "print(\"예측된 레이블의 고유값: {}\".format(np.unique(pred_dummy)))\n",
        "print(\"테스트 평가 정확도 : {:.2f}\".format(dummy.score(X_test, y_test)))\n",
        "\n",
        "print(classification_report(y_test, pred_dummy,\n",
        "                            target_names=[\"not 9\", \"is 9\"]))"
      ],
      "metadata": {
        "colab": {
          "base_uri": "https://localhost:8080/"
        },
        "id": "9ZocR0C6cR2-",
        "outputId": "31bb45cc-f1e0-4bc8-9249-44bf2ada6cba"
      },
      "execution_count": null,
      "outputs": [
        {
          "output_type": "stream",
          "name": "stdout",
          "text": [
            "예측된 레이블의 고유값: [False  True]\n",
            "테스트 평가 정확도 : 0.82\n",
            "              precision    recall  f1-score   support\n",
            "\n",
            "       not 9       0.89      0.91      0.90       403\n",
            "        is 9       0.05      0.04      0.05        47\n",
            "\n",
            "    accuracy                           0.82       450\n",
            "   macro avg       0.47      0.48      0.47       450\n",
            "weighted avg       0.80      0.82      0.81       450\n",
            "\n"
          ]
        }
      ]
    },
    {
      "cell_type": "code",
      "source": [
        "# 의사결정나무의 (정확도, 정밀도, 민감도, f1-score)\n",
        "from sklearn.tree import DecisionTreeClassifier\n",
        "\n",
        "tree = DecisionTreeClassifier(max_depth=2).fit(X_train, y_train)\n",
        "pred_tree = tree.predict(X_test)\n",
        "\n",
        "print(classification_report(y_test, pred_tree, target_names=[\"not 9\", \"is 9\"]))"
      ],
      "metadata": {
        "colab": {
          "base_uri": "https://localhost:8080/"
        },
        "id": "nPiZSeGMcYLV",
        "outputId": "6ca1b5b3-ff07-4417-a371-2fc156e95e2f"
      },
      "execution_count": null,
      "outputs": [
        {
          "output_type": "stream",
          "name": "stdout",
          "text": [
            "              precision    recall  f1-score   support\n",
            "\n",
            "       not 9       0.94      0.97      0.95       403\n",
            "        is 9       0.64      0.49      0.55        47\n",
            "\n",
            "    accuracy                           0.92       450\n",
            "   macro avg       0.79      0.73      0.75       450\n",
            "weighted avg       0.91      0.92      0.91       450\n",
            "\n"
          ]
        }
      ]
    },
    {
      "cell_type": "code",
      "source": [
        "# 로지스틱 회귀의 (정확도, 정밀도, 민감도, f1-score)\n",
        "\n",
        "from sklearn.linear_model import LogisticRegression\n",
        "\n",
        "logreg = LogisticRegression(C=0.1).fit(X_train, y_train)\n",
        "pred_logreg = logreg.predict(X_test)\n",
        "\n",
        "print( classification_report(y_test, pred_logreg, \n",
        "                     target_names=['not 9', 'is 9']) )"
      ],
      "metadata": {
        "colab": {
          "base_uri": "https://localhost:8080/"
        },
        "id": "YHeeC8-tcZ9j",
        "outputId": "6d99d1b4-1567-4dfc-ff34-21a5e5b7158a"
      },
      "execution_count": null,
      "outputs": [
        {
          "output_type": "stream",
          "name": "stdout",
          "text": [
            "              precision    recall  f1-score   support\n",
            "\n",
            "       not 9       0.99      1.00      0.99       403\n",
            "        is 9       0.98      0.87      0.92        47\n",
            "\n",
            "    accuracy                           0.98       450\n",
            "   macro avg       0.98      0.93      0.96       450\n",
            "weighted avg       0.98      0.98      0.98       450\n",
            "\n"
          ]
        },
        {
          "output_type": "stream",
          "name": "stderr",
          "text": [
            "/usr/local/lib/python3.7/dist-packages/sklearn/linear_model/_logistic.py:818: ConvergenceWarning: lbfgs failed to converge (status=1):\n",
            "STOP: TOTAL NO. of ITERATIONS REACHED LIMIT.\n",
            "\n",
            "Increase the number of iterations (max_iter) or scale the data as shown in:\n",
            "    https://scikit-learn.org/stable/modules/preprocessing.html\n",
            "Please also refer to the documentation for alternative solver options:\n",
            "    https://scikit-learn.org/stable/modules/linear_model.html#logistic-regression\n",
            "  extra_warning_msg=_LOGISTIC_SOLVER_CONVERGENCE_MSG,\n"
          ]
        }
      ]
    },
    {
      "cell_type": "code",
      "source": [
        "# 앙상블(랜덤포레스트)의 (정확도, 정밀도, 민감도, f1-score)\n",
        "from sklearn.ensemble import RandomForestClassifier\n",
        "\n",
        "rf = RandomForestClassifier().fit(X_train, y_train)\n",
        "pred_rf = rf.predict(X_test)\n",
        "\n",
        "print(classification_report(y_test, pred_rf, target_names=[\"not 9\", \"is 9\"]))"
      ],
      "metadata": {
        "colab": {
          "base_uri": "https://localhost:8080/"
        },
        "id": "f-JKA4oqdIIW",
        "outputId": "29ef2acd-7de2-4d51-b33d-81c9e95ee9eb"
      },
      "execution_count": null,
      "outputs": [
        {
          "output_type": "stream",
          "name": "stdout",
          "text": [
            "              precision    recall  f1-score   support\n",
            "\n",
            "       not 9       0.97      1.00      0.98       403\n",
            "        is 9       1.00      0.70      0.82        47\n",
            "\n",
            "    accuracy                           0.97       450\n",
            "   macro avg       0.98      0.85      0.90       450\n",
            "weighted avg       0.97      0.97      0.97       450\n",
            "\n"
          ]
        }
      ]
    },
    {
      "cell_type": "code",
      "source": [
        ""
      ],
      "metadata": {
        "id": "1s8X0hlyegfM"
      },
      "execution_count": null,
      "outputs": []
    }
  ]
}