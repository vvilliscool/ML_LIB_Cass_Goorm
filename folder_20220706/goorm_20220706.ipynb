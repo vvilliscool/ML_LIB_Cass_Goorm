{
 "cells": [
  {
   "cell_type": "code",
   "execution_count": 1,
   "metadata": {},
   "outputs": [
    {
     "name": "stdout",
     "output_type": "stream",
     "text": [
      "지역 탑 : toto\n"
     ]
    }
   ],
   "source": [
    "top1 = 'toto'\n",
    "\n",
    "def nameprint(num1):\n",
    "    print(\"지역 탑 :\", top1)\n",
    "\n",
    "nameprint(100)"
   ]
  },
  {
   "cell_type": "code",
   "execution_count": 2,
   "metadata": {},
   "outputs": [
    {
     "name": "stdout",
     "output_type": "stream",
     "text": [
      "지역 탑 : toto\n",
      "100\n"
     ]
    }
   ],
   "source": [
    "top1 = 'toto'\n",
    "\n",
    "def nameprint(num1):\n",
    "    print(\"지역 탑 :\", top1)\n",
    "    print(num1)\n",
    "\n",
    "nameprint(100)"
   ]
  },
  {
   "cell_type": "code",
   "execution_count": 3,
   "metadata": {},
   "outputs": [
    {
     "name": "stdout",
     "output_type": "stream",
     "text": [
      "지역 탑 : banana\n",
      "전국 탑 : banana\n"
     ]
    }
   ],
   "source": [
    "top3 = 'toto'\n",
    "\n",
    "def nameprint():\n",
    "    global top3\n",
    "    top3 = 'banana'\n",
    "    print(\"지역 탑 :\", top3)\n",
    "\n",
    "nameprint()\n",
    "print(\"전국 탑 :\", top3)"
   ]
  },
  {
   "cell_type": "code",
   "execution_count": null,
   "metadata": {},
   "outputs": [],
   "source": []
  }
 ],
 "metadata": {
  "kernelspec": {
   "display_name": "Python 3",
   "language": "python",
   "name": "python3"
  },
  "language_info": {
   "codemirror_mode": {
    "name": "ipython",
    "version": 3
   },
   "file_extension": ".py",
   "mimetype": "text/x-python",
   "name": "python",
   "nbconvert_exporter": "python",
   "pygments_lexer": "ipython3",
   "version": "3.8.5"
  }
 },
 "nbformat": 4,
 "nbformat_minor": 4
}
