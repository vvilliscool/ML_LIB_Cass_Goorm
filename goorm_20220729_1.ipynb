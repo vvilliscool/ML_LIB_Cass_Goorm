{
  "nbformat": 4,
  "nbformat_minor": 0,
  "metadata": {
    "colab": {
      "name": "goorm_20220729_1.ipynb",
      "provenance": [],
      "authorship_tag": "ABX9TyPS+swpM04NmQPLM7noxQRr"
    },
    "kernelspec": {
      "name": "python3",
      "display_name": "Python 3"
    },
    "language_info": {
      "name": "python"
    }
  },
  "cells": [
    {
      "cell_type": "code",
      "execution_count": 1,
      "metadata": {
        "id": "OmjFd-u4_Ulu"
      },
      "outputs": [],
      "source": [
        "import platform\n",
        "import matplotlib\n",
        "from matplotlib import font_manager, rc\n",
        "import matplotlib"
      ]
    },
    {
      "cell_type": "code",
      "source": [
        "# 한글 및 마이너스 표시 설정\n",
        "path = \"C:/Windows/Fonts/malgun.ttf\"\n",
        "if platform.system() == \"Windows\":\n",
        "    font_name = font_manager.FontProperties(fname=path).get_name()\n",
        "    matplotlib.rc('font', family=font_name)\n",
        "elif platform.system()==\"Darwin\":\n",
        "    rc('font', family='AppleGothic')\n",
        "else:\n",
        "    print(\"Unknown System\")\n",
        "\n",
        "matplotlib.rcParams['axes.unicode_minus'] = False\n",
        "%matplotlib inline"
      ],
      "metadata": {
        "colab": {
          "base_uri": "https://localhost:8080/"
        },
        "id": "O0xPtOlM_m9L",
        "outputId": "6d6a2f8a-e028-4f24-ce93-e27dba178b4a"
      },
      "execution_count": 2,
      "outputs": [
        {
          "output_type": "stream",
          "name": "stdout",
          "text": [
            "Unknown System\n"
          ]
        }
      ]
    },
    {
      "cell_type": "code",
      "source": [
        "!pip install mglearn"
      ],
      "metadata": {
        "colab": {
          "base_uri": "https://localhost:8080/"
        },
        "id": "GygxjmkS_tSd",
        "outputId": "85fc2428-05e9-4714-8a2c-4a520bdad000"
      },
      "execution_count": 4,
      "outputs": [
        {
          "output_type": "stream",
          "name": "stdout",
          "text": [
            "Looking in indexes: https://pypi.org/simple, https://us-python.pkg.dev/colab-wheels/public/simple/\n",
            "Collecting mglearn\n",
            "  Downloading mglearn-0.1.9.tar.gz (540 kB)\n",
            "\u001b[K     |████████████████████████████████| 540 kB 5.1 MB/s \n",
            "\u001b[?25hRequirement already satisfied: numpy in /usr/local/lib/python3.7/dist-packages (from mglearn) (1.21.6)\n",
            "Requirement already satisfied: matplotlib in /usr/local/lib/python3.7/dist-packages (from mglearn) (3.2.2)\n",
            "Requirement already satisfied: scikit-learn in /usr/local/lib/python3.7/dist-packages (from mglearn) (1.0.2)\n",
            "Requirement already satisfied: pandas in /usr/local/lib/python3.7/dist-packages (from mglearn) (1.3.5)\n",
            "Requirement already satisfied: pillow in /usr/local/lib/python3.7/dist-packages (from mglearn) (7.1.2)\n",
            "Requirement already satisfied: cycler in /usr/local/lib/python3.7/dist-packages (from mglearn) (0.11.0)\n",
            "Requirement already satisfied: imageio in /usr/local/lib/python3.7/dist-packages (from mglearn) (2.4.1)\n",
            "Requirement already satisfied: joblib in /usr/local/lib/python3.7/dist-packages (from mglearn) (1.1.0)\n",
            "Requirement already satisfied: kiwisolver>=1.0.1 in /usr/local/lib/python3.7/dist-packages (from matplotlib->mglearn) (1.4.4)\n",
            "Requirement already satisfied: pyparsing!=2.0.4,!=2.1.2,!=2.1.6,>=2.0.1 in /usr/local/lib/python3.7/dist-packages (from matplotlib->mglearn) (3.0.9)\n",
            "Requirement already satisfied: python-dateutil>=2.1 in /usr/local/lib/python3.7/dist-packages (from matplotlib->mglearn) (2.8.2)\n",
            "Requirement already satisfied: typing-extensions in /usr/local/lib/python3.7/dist-packages (from kiwisolver>=1.0.1->matplotlib->mglearn) (4.1.1)\n",
            "Requirement already satisfied: six>=1.5 in /usr/local/lib/python3.7/dist-packages (from python-dateutil>=2.1->matplotlib->mglearn) (1.15.0)\n",
            "Requirement already satisfied: pytz>=2017.3 in /usr/local/lib/python3.7/dist-packages (from pandas->mglearn) (2022.1)\n",
            "Requirement already satisfied: threadpoolctl>=2.0.0 in /usr/local/lib/python3.7/dist-packages (from scikit-learn->mglearn) (3.1.0)\n",
            "Requirement already satisfied: scipy>=1.1.0 in /usr/local/lib/python3.7/dist-packages (from scikit-learn->mglearn) (1.7.3)\n",
            "Building wheels for collected packages: mglearn\n",
            "  Building wheel for mglearn (setup.py) ... \u001b[?25l\u001b[?25hdone\n",
            "  Created wheel for mglearn: filename=mglearn-0.1.9-py2.py3-none-any.whl size=582639 sha256=b606e08a16e1e572aadcd95073b7d02c145a4f9065facbdc45ff1703082e8788\n",
            "  Stored in directory: /root/.cache/pip/wheels/f1/17/e1/1720d6dcd70187b6b6c3750cb3508798f2b1d57c9d3214b08b\n",
            "Successfully built mglearn\n",
            "Installing collected packages: mglearn\n",
            "Successfully installed mglearn-0.1.9\n"
          ]
        }
      ]
    },
    {
      "cell_type": "code",
      "source": [
        "# 01 데이터 셋 불러오기\n",
        "from sklearn.ensemble import RandomForestClassifier\n",
        "from sklearn.datasets import load_breast_cancer\n",
        "import mglearn\n",
        "\n",
        "from sklearn.model_selection import train_test_split\n",
        "import matplotlib.pyplot as plt\n",
        "import numpy as np\n",
        "import pandas as pd"
      ],
      "metadata": {
        "id": "zMRKOhVk_oGW"
      },
      "execution_count": 8,
      "outputs": []
    },
    {
      "cell_type": "code",
      "source": [
        "cancer = load_breast_cancer()\n",
        "\n",
        "X = cancer.data\n",
        "y = cancer.target\n",
        "\n",
        "# 02 데이터 셋 나누기 및 학습\n",
        "X_train, X_test, y_train, y_test = train_test_split(X,y , \n",
        "                                       stratify=cancer.target, random_state=0)"
      ],
      "metadata": {
        "id": "6xxo154Y_qya"
      },
      "execution_count": 9,
      "outputs": []
    },
    {
      "cell_type": "code",
      "source": [
        "# 앙상블 - 랜덤포레스트\n",
        "model = RandomForestClassifier()\n",
        "model.fit(X_train, y_train)\n",
        "\n",
        "print(\"훈련 세트 정확도 : {:.3f}\".format(model.score(X_train, y_train)))\n",
        "print(\"테스트 세트 정확도 : {:.3f}\".format(model.score(X_test, y_test)))"
      ],
      "metadata": {
        "colab": {
          "base_uri": "https://localhost:8080/"
        },
        "id": "JuJ-27df_xas",
        "outputId": "d835ed06-f8d2-45cd-da8c-01d59bc11274"
      },
      "execution_count": 10,
      "outputs": [
        {
          "output_type": "stream",
          "name": "stdout",
          "text": [
            "훈련 세트 정확도 : 1.000\n",
            "테스트 세트 정확도 : 0.951\n"
          ]
        }
      ]
    },
    {
      "cell_type": "code",
      "source": [
        "# KNN\n",
        "from sklearn.neighbors import KNeighborsClassifier\n",
        "\n",
        "model =  KNeighborsClassifier()\n",
        "model.fit(X_train, y_train)\n",
        "\n",
        "print(\"훈련 세트 정확도 : {:.3f}\".format(model.score(X_train, y_train)))\n",
        "print(\"테스트 세트 정확도 : {:.3f}\".format(model.score(X_test, y_test)))"
      ],
      "metadata": {
        "colab": {
          "base_uri": "https://localhost:8080/"
        },
        "id": "rKz3zz-U_8Nw",
        "outputId": "60fbf67d-310e-4be0-c2d6-9d92f9c0fadc"
      },
      "execution_count": 11,
      "outputs": [
        {
          "output_type": "stream",
          "name": "stdout",
          "text": [
            "훈련 세트 정확도 : 0.946\n",
            "테스트 세트 정확도 : 0.916\n"
          ]
        }
      ]
    },
    {
      "cell_type": "code",
      "source": [
        "# 의사결정트리\n",
        "from sklearn.tree import DecisionTreeClassifier\n",
        "\n",
        "model =  DecisionTreeClassifier()\n",
        "model.fit(X_train, y_train)\n",
        "\n",
        "print(\"훈련 세트 정확도 : {:.3f}\".format(model.score(X_train, y_train)))\n",
        "print(\"테스트 세트 정확도 : {:.3f}\".format(model.score(X_test, y_test)))"
      ],
      "metadata": {
        "colab": {
          "base_uri": "https://localhost:8080/"
        },
        "id": "-lHwnIogAMqK",
        "outputId": "215b64d2-4a5c-4275-c0c8-92f004e90494"
      },
      "execution_count": 12,
      "outputs": [
        {
          "output_type": "stream",
          "name": "stdout",
          "text": [
            "훈련 세트 정확도 : 1.000\n",
            "테스트 세트 정확도 : 0.923\n"
          ]
        }
      ]
    },
    {
      "cell_type": "code",
      "source": [
        ""
      ],
      "metadata": {
        "id": "xbwRzLIQAWrG"
      },
      "execution_count": null,
      "outputs": []
    }
  ]
}