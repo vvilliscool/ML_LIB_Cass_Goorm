{
  "nbformat": 4,
  "nbformat_minor": 0,
  "metadata": {
    "colab": {
      "name": "goorm_20220802_2.ipynb",
      "provenance": [],
      "authorship_tag": "ABX9TyMQxu1wF1nRhWLzDK7lP+Xg",
      "include_colab_link": true
    },
    "kernelspec": {
      "name": "python3",
      "display_name": "Python 3"
    },
    "language_info": {
      "name": "python"
    }
  },
  "cells": [
    {
      "cell_type": "markdown",
      "metadata": {
        "id": "view-in-github",
        "colab_type": "text"
      },
      "source": [
        "<a href=\"https://colab.research.google.com/github/vvilliscool/ML_LIB_Class_Goorm/blob/master/goorm_20220802_2.ipynb\" target=\"_parent\"><img src=\"https://colab.research.google.com/assets/colab-badge.svg\" alt=\"Open In Colab\"/></a>"
      ]
    },
    {
      "cell_type": "markdown",
      "source": [
        "## 일변량 통계\n"
      ],
      "metadata": {
        "id": "BCuoe-wXjGx-"
      }
    },
    {
      "cell_type": "code",
      "source": [
        "from sklearn.feature_selection import SelectPercentile, f_classif\n",
        "\n",
        "from sklearn.datasets import load_breast_cancer\n",
        "from sklearn.model_selection import train_test_split\n",
        "import numpy as np"
      ],
      "metadata": {
        "id": "h5fKE9VxYzI9"
      },
      "execution_count": null,
      "outputs": []
    },
    {
      "cell_type": "code",
      "source": [
        "cancer = load_breast_cancer()\n",
        "print(cancer.data.shape)"
      ],
      "metadata": {
        "colab": {
          "base_uri": "https://localhost:8080/"
        },
        "id": "wJ1ZKxOtY0Lc",
        "outputId": "6fc87f08-a63d-4b58-b61f-f6b1998f1fa0"
      },
      "execution_count": null,
      "outputs": [
        {
          "output_type": "stream",
          "name": "stdout",
          "text": [
            "(569, 30)\n"
          ]
        }
      ]
    },
    {
      "cell_type": "code",
      "source": [
        "# 고정된 난수를 발생\n",
        "rng = np.random.RandomState(42)\n",
        "noise = rng.normal(size=(len(cancer.data), 40))\n",
        "noise.shape"
      ],
      "metadata": {
        "colab": {
          "base_uri": "https://localhost:8080/"
        },
        "id": "1mlfZAL2Y4HW",
        "outputId": "d5a1fc82-af9f-47de-d9db-cbd800c46daf"
      },
      "execution_count": null,
      "outputs": [
        {
          "output_type": "execute_result",
          "data": {
            "text/plain": [
              "(569, 40)"
            ]
          },
          "metadata": {},
          "execution_count": 4
        }
      ]
    },
    {
      "cell_type": "code",
      "source": [
        "# 데이터 노이즈 특성 추가\n",
        "# 30개는 원본 특성, 다음 40개는 노이즈\n",
        "X_w_noise = np.hstack([cancer.data, noise])\n",
        "X_w_noise.shape"
      ],
      "metadata": {
        "colab": {
          "base_uri": "https://localhost:8080/"
        },
        "id": "fjD28wf7Y5f7",
        "outputId": "ca8c3fb2-17a5-491a-a172-499439afeb06"
      },
      "execution_count": null,
      "outputs": [
        {
          "output_type": "execute_result",
          "data": {
            "text/plain": [
              "(569, 70)"
            ]
          },
          "metadata": {},
          "execution_count": 5
        }
      ]
    },
    {
      "cell_type": "markdown",
      "source": [
        "split"
      ],
      "metadata": {
        "id": "w_zKHvTIY8F8"
      }
    },
    {
      "cell_type": "code",
      "source": [
        "X = X_w_noise  # 입력\n",
        "y = cancer.target # 출력\n",
        "\n",
        "X_train, X_test, y_train, y_test = train_test_split(X, y, \n",
        "                                                    random_state=0, test_size=0.3)"
      ],
      "metadata": {
        "id": "J3OaSB6zY6YF"
      },
      "execution_count": null,
      "outputs": []
    },
    {
      "cell_type": "code",
      "source": [
        "# 50%를 뽑는 것을 학습\n",
        "select = SelectPercentile(score_func=f_classif, percentile=50)\n",
        "select.fit(X_train, y_train)\n",
        "\n",
        "## 학습 세트에 적용\n",
        "X_train_selected = select.transform(X_train)\n",
        "\n",
        "print( \"X_train.shape:\", X_train.shape)\n",
        "print( \"X_train_selected.shape\", X_train_selected.shape)"
      ],
      "metadata": {
        "colab": {
          "base_uri": "https://localhost:8080/"
        },
        "id": "kyb4C_lOY9V9",
        "outputId": "4593d837-8193-42bb-bce4-1ff2db86472c"
      },
      "execution_count": null,
      "outputs": [
        {
          "output_type": "stream",
          "name": "stdout",
          "text": [
            "X_train.shape: (398, 70)\n",
            "X_train_selected.shape (398, 35)\n"
          ]
        }
      ]
    },
    {
      "cell_type": "code",
      "source": [
        "import matplotlib.pyplot as plt\n",
        "\n",
        "### 어떤 특성이 선택되었는지 확인\n",
        "mask = select.get_support()\n",
        "print(mask)\n",
        "plt.matshow(mask.reshape(1, -1), cmap='gray_r')"
      ],
      "metadata": {
        "colab": {
          "base_uri": "https://localhost:8080/",
          "height": 177
        },
        "id": "YqZfkQ_jZAxK",
        "outputId": "3890cf8d-8dd3-4655-8a56-bb40369663fc"
      },
      "execution_count": null,
      "outputs": [
        {
          "output_type": "stream",
          "name": "stdout",
          "text": [
            "[ True  True  True  True  True  True  True  True  True False  True False\n",
            "  True  True  True  True  True  True False False  True  True  True  True\n",
            "  True  True  True  True  True  True False False False False False False\n",
            " False  True  True False False False False False  True False False False\n",
            " False False False  True  True False False False False  True False False\n",
            " False False False False  True False False False  True  True]\n"
          ]
        },
        {
          "output_type": "execute_result",
          "data": {
            "text/plain": [
              "<matplotlib.image.AxesImage at 0x7f8bdf84fe90>"
            ]
          },
          "metadata": {},
          "execution_count": 8
        },
        {
          "output_type": "display_data",
          "data": {
            "text/plain": [
              "<Figure size 1152x144 with 1 Axes>"
            ],
            "image/png": "[encoded data removed]"
          },
          "metadata": {
            "needs_background": "light"
          }
        }
      ]
    },
    {
      "cell_type": "code",
      "source": [
        "from sklearn.linear_model import LogisticRegression\n",
        "from sklearn.neighbors import KNeighborsClassifier\n",
        "\n",
        "lr = LogisticRegression()\n",
        "lr.fit(X_train, y_train)\n",
        "print(\"전체 특성 사용(학습) : {:.3f}\".format(lr.score(X_train, y_train)))\n",
        "print(\"전체 특성 사용(테스트) : {:.3f}\".format(lr.score(X_test, y_test)))\n",
        "\n",
        "knn = KNeighborsClassifier()\n",
        "knn.fit(X_train, y_train)\n",
        "print(\"전체 특성 사용(학습) : {:.3f}\".format(knn.score(X_train, y_train)))\n",
        "print(\"전체 특성 사용(테스트) : {:.3f}\".format(knn.score(X_test, y_test)))"
      ],
      "metadata": {
        "colab": {
          "base_uri": "https://localhost:8080/"
        },
        "id": "MkSQZiZTb0ri",
        "outputId": "31dc7ab0-1c8a-4721-9735-26903986cd39"
      },
      "execution_count": null,
      "outputs": [
        {
          "output_type": "stream",
          "name": "stdout",
          "text": [
            "전체 특성 사용(학습) : 0.975\n",
            "전체 특성 사용(테스트) : 0.936\n",
            "전체 특성 사용(학습) : 0.940\n",
            "전체 특성 사용(테스트) : 0.942\n"
          ]
        }
      ]
    },
    {
      "cell_type": "code",
      "source": [
        "## X_train_selected\n",
        "select = SelectPercentile(score_func=f_classif,\n",
        "                          percentile=50)\n",
        "select.fit(X_train, y_train)\n",
        "\n",
        "### 학습 세트에 적용\n",
        "X_train_selected = select.transform(X_train)\n",
        "\n",
        "mask = select.get_support()\n",
        "print(mask)\n",
        "plt.matshow(mask.reshape(1, -1), cmap='gray_r')\n",
        "\n",
        "X_test_selected = X_test[ :  , mask ]\n",
        "\n",
        "print(X_test_selected.shape)\n",
        "lr.fit(X_train_selected, y_train)\n",
        "print(\"일부 특성 사용(학습) : {:.3f}\".format(lr.score(X_train_selected, y_train)))\n",
        "print(\"일부 특성 사용(테스트): {:.3f}\".format(lr.score(X_test_selected, y_test)))"
      ],
      "metadata": {
        "colab": {
          "base_uri": "https://localhost:8080/",
          "height": 213
        },
        "id": "5CeKGMavcaRC",
        "outputId": "e8f758fc-c652-44f4-e82b-793eae149b69"
      },
      "execution_count": null,
      "outputs": [
        {
          "output_type": "stream",
          "name": "stdout",
          "text": [
            "[ True  True  True  True  True  True  True  True  True False  True False\n",
            "  True  True  True  True  True  True False False  True  True  True  True\n",
            "  True  True  True  True  True  True False False False False False False\n",
            " False  True  True False False False False False  True False False False\n",
            " False False False  True  True False False False False  True False False\n",
            " False False False False  True False False False  True  True]\n",
            "(171, 35)\n",
            "일부 특성 사용(학습) : 0.950\n",
            "일부 특성 사용(테스트): 0.942\n"
          ]
        },
        {
          "output_type": "display_data",
          "data": {
            "text/plain": [
              "<Figure size 1152x144 with 1 Axes>"
            ],
            "image/png": "[encoded data removed]"
          },
          "metadata": {
            "needs_background": "light"
          }
        }
      ]
    },
    {
      "cell_type": "markdown",
      "source": [
        "## 모델기반 특성 선택"
      ],
      "metadata": {
        "id": "Q830vgDjjLfn"
      }
    },
    {
      "cell_type": "code",
      "source": [
        "from sklearn.feature_selection import SelectFromModel\n",
        "from sklearn.ensemble import RandomForestClassifier\n",
        "select = SelectFromModel(RandomForestClassifier(n_estimators=100, random_state=42),\n",
        "                                               threshold=\"median\")"
      ],
      "metadata": {
        "id": "cobvi6P_dc2r"
      },
      "execution_count": null,
      "outputs": []
    },
    {
      "cell_type": "code",
      "source": [
        "select.fit(X_train, y_train)\n",
        "X_train_l1 = select.transform(X_train)\n",
        "print(\"X_train.shape :\" , X_train.shape)\n",
        "print(\"X_train_l1.shape :\", X_train_l1.shape)"
      ],
      "metadata": {
        "colab": {
          "base_uri": "https://localhost:8080/"
        },
        "id": "vbIxqEEejUCz",
        "outputId": "27b8874d-be1c-46da-c784-09030adc7842"
      },
      "execution_count": null,
      "outputs": [
        {
          "output_type": "stream",
          "name": "stdout",
          "text": [
            "X_train.shape : (398, 70)\n",
            "X_train_l1.shape : (398, 35)\n"
          ]
        }
      ]
    },
    {
      "cell_type": "code",
      "source": [
        "### 어떤 특성이 선택되었는지 확인\n",
        "mask = select.get_support()\n",
        "print(mask)\n",
        "plt.matshow(mask.reshape(1, -1), cmap='gray_r')\n",
        "plt.xlabel(\"특성 번호\")"
      ],
      "metadata": {
        "colab": {
          "base_uri": "https://localhost:8080/",
          "height": 184
        },
        "id": "iqFRo5bCjVBv",
        "outputId": "2a9b992f-ddc9-44ad-d557-3d731bdbe360"
      },
      "execution_count": null,
      "outputs": [
        {
          "output_type": "stream",
          "name": "stdout",
          "text": [
            "[ True  True  True  True  True  True  True  True  True  True  True  True\n",
            "  True  True  True  True  True  True  True  True  True  True  True  True\n",
            "  True  True  True  True  True  True False False False False False False\n",
            " False False False False False False False False False  True False False\n",
            " False False False  True  True False False False False False False False\n",
            " False False  True False False False False False  True False]\n"
          ]
        },
        {
          "output_type": "execute_result",
          "data": {
            "text/plain": [
              "Text(0.5, 0, '특성 번호')"
            ]
          },
          "metadata": {},
          "execution_count": 13
        },
        {
          "output_type": "display_data",
          "data": {
            "text/plain": [
              "<Figure size 1152x144 with 1 Axes>"
            ],
            "image/png": "[encoded data removed]"
          },
          "metadata": {
            "needs_background": "light"
          }
        }
      ]
    },
    {
      "cell_type": "code",
      "source": [
        "select.fit(X_test, y_test)\n",
        "X_test_l1 = select.transform(X_test)\n",
        "\n",
        "mask = select.get_support()\n",
        "plt.matshow(mask.reshape(1, -1), cmap='gray_r')\n",
        "plt.xlabel(\"특성 번호\")"
      ],
      "metadata": {
        "colab": {
          "base_uri": "https://localhost:8080/",
          "height": 75
        },
        "id": "_ryX7uX1jWMn",
        "outputId": "280d11eb-5e07-4c6c-ca29-528f964d5c0a"
      },
      "execution_count": null,
      "outputs": [
        {
          "output_type": "execute_result",
          "data": {
            "text/plain": [
              "Text(0.5, 0, '특성 번호')"
            ]
          },
          "metadata": {},
          "execution_count": 14
        },
        {
          "output_type": "display_data",
          "data": {
            "text/plain": [
              "<Figure size 1152x144 with 1 Axes>"
            ],
            "image/png": "[encoded data removed]"
          },
          "metadata": {
            "needs_background": "light"
          }
        }
      ]
    },
    {
      "cell_type": "markdown",
      "source": [
        "### 일변량 통계를 이용한 변수 선택\n",
        "- 통계 F-value 이용\n",
        "    - select = SelectPercentile(score_func = f_classif, percentile=50)\n",
        "    - 분류 : f_classif\n",
        "    - 회귀 : f_regression\n",
        "    - percentile : 얼마나 변수를 선택할 것인가 (%)\n",
        "\n",
        "\n",
        "### 모델기반 변수 선택\n",
        "- 모델을 기반으로 변수 선택\n",
        "    - RandomForestCalssifier를 이용하는 경우\n",
        "    - 기준이 되는 값은 특성 중요도\n",
        "        - 특성 중요도 : 모델을 만들때, 사용된 변수를 말함\n",
        "        - select = SelectFromModel(RandomForestClassifier(), threshold='median')"
      ],
      "metadata": {
        "id": "r5elunrwmmwP"
      }
    },
    {
      "cell_type": "code",
      "source": [
        "from sklearn.feature_selection import RFE\n",
        "select = RFE(RandomForestClassifier(n_estimators=100, random_state=42),\n",
        "                  n_features_to_select=35)\n",
        "\n",
        "select.fit(X_train, y_train)\n",
        "\n",
        "mask = select.get_support()\n",
        "plt.matshow(mask.reshape(1, -1), cmap='gray_r')\n",
        "plt.xlabel(\"특성 번호\")"
      ],
      "metadata": {
        "colab": {
          "base_uri": "https://localhost:8080/"
        },
        "id": "BHeGhj0jjYGj",
        "outputId": "44640574-4d39-457f-9934-cb5cb8a7a2e3"
      },
      "execution_count": null,
      "outputs": [
        {
          "output_type": "execute_result",
          "data": {
            "text/plain": [
              "Text(0.5, 0, '특성 번호')"
            ]
          },
          "metadata": {},
          "execution_count": 15
        },
        {
          "output_type": "display_data",
          "data": {
            "text/plain": [
              "<Figure size 1152x144 with 1 Axes>"
            ],
            "image/png": "[encoded data removed]"
          },
          "metadata": {
            "needs_background": "light"
          }
        }
      ]
    },
    {
      "cell_type": "code",
      "source": [
        "X_train_rfe = select.transform(X_train)\n",
        "mask = select.get_support()\n",
        "\n",
        "model = LogisticRegression().fit(X_train_rfe, y_train)\n",
        "score = model.score(X_train_rfe, y_train)\n",
        "print(\"학습용 평가 점수 : {:.3f}\".format(score))\n",
        "\n",
        "X_test_rfe = X_test[:, mask]\n",
        "score = model.score(X_test_rfe, y_test)\n",
        "print(\"테스트용 평가 점수 : {:.3f}\".format(score))"
      ],
      "metadata": {
        "colab": {
          "base_uri": "https://localhost:8080/"
        },
        "id": "CUcxOburp0xF",
        "outputId": "177c89e6-1683-4241-9ad9-3c9e86a56eca"
      },
      "execution_count": 17,
      "outputs": [
        {
          "output_type": "stream",
          "name": "stdout",
          "text": [
            "학습용 평가 점수 : 0.947\n",
            "테스트용 평가 점수 : 0.947\n"
          ]
        }
      ]
    },
    {
      "cell_type": "code",
      "source": [
        ""
      ],
      "metadata": {
        "id": "XqOc2Hlip2Oy"
      },
      "execution_count": null,
      "outputs": []
    }
  ]
}